{
 "cells": [
  {
   "cell_type": "markdown",
   "metadata": {},
   "source": [
    "# WeatherPy\n",
    "----\n",
    "\n",
    "#### Note\n",
    "* Instructions have been included for each segment. You do not have to follow them exactly, but they are included to help you think through the steps."
   ]
  },
  {
   "cell_type": "code",
   "execution_count": 30,
   "metadata": {},
   "outputs": [
    {
     "data": {
      "text/html": [
       "<div>\n",
       "<style scoped>\n",
       "    .dataframe tbody tr th:only-of-type {\n",
       "        vertical-align: middle;\n",
       "    }\n",
       "\n",
       "    .dataframe tbody tr th {\n",
       "        vertical-align: top;\n",
       "    }\n",
       "\n",
       "    .dataframe thead th {\n",
       "        text-align: right;\n",
       "    }\n",
       "</style>\n",
       "<table border=\"1\" class=\"dataframe\">\n",
       "  <thead>\n",
       "    <tr style=\"text-align: right;\">\n",
       "      <th></th>\n",
       "      <th>City_ID</th>\n",
       "      <th>City</th>\n",
       "      <th>Cloudiness</th>\n",
       "      <th>Country</th>\n",
       "      <th>Date</th>\n",
       "      <th>Humidity</th>\n",
       "      <th>Lat</th>\n",
       "      <th>Lng</th>\n",
       "      <th>Max Temp</th>\n",
       "      <th>Wind Speed</th>\n",
       "    </tr>\n",
       "  </thead>\n",
       "  <tbody>\n",
       "    <tr>\n",
       "      <th>0</th>\n",
       "      <td>0</td>\n",
       "      <td>ostrovnoy</td>\n",
       "      <td>2</td>\n",
       "      <td>RU</td>\n",
       "      <td>1558378754</td>\n",
       "      <td>72</td>\n",
       "      <td>68.05</td>\n",
       "      <td>39.51</td>\n",
       "      <td>37.50</td>\n",
       "      <td>7.16</td>\n",
       "    </tr>\n",
       "    <tr>\n",
       "      <th>1</th>\n",
       "      <td>1</td>\n",
       "      <td>mahebourg</td>\n",
       "      <td>75</td>\n",
       "      <td>MU</td>\n",
       "      <td>1558378503</td>\n",
       "      <td>74</td>\n",
       "      <td>-20.41</td>\n",
       "      <td>57.70</td>\n",
       "      <td>78.80</td>\n",
       "      <td>11.41</td>\n",
       "    </tr>\n",
       "    <tr>\n",
       "      <th>2</th>\n",
       "      <td>2</td>\n",
       "      <td>qaanaaq</td>\n",
       "      <td>25</td>\n",
       "      <td>GL</td>\n",
       "      <td>1558378755</td>\n",
       "      <td>73</td>\n",
       "      <td>77.48</td>\n",
       "      <td>-69.36</td>\n",
       "      <td>22.20</td>\n",
       "      <td>2.37</td>\n",
       "    </tr>\n",
       "    <tr>\n",
       "      <th>3</th>\n",
       "      <td>3</td>\n",
       "      <td>zhuhai</td>\n",
       "      <td>0</td>\n",
       "      <td>CN</td>\n",
       "      <td>1558378755</td>\n",
       "      <td>39</td>\n",
       "      <td>40.71</td>\n",
       "      <td>112.04</td>\n",
       "      <td>44.60</td>\n",
       "      <td>4.47</td>\n",
       "    </tr>\n",
       "    <tr>\n",
       "      <th>4</th>\n",
       "      <td>4</td>\n",
       "      <td>cape town</td>\n",
       "      <td>20</td>\n",
       "      <td>ZA</td>\n",
       "      <td>1558378755</td>\n",
       "      <td>76</td>\n",
       "      <td>-33.93</td>\n",
       "      <td>18.42</td>\n",
       "      <td>55.99</td>\n",
       "      <td>8.05</td>\n",
       "    </tr>\n",
       "  </tbody>\n",
       "</table>\n",
       "</div>"
      ],
      "text/plain": [
       "   City_ID       City  Cloudiness Country        Date  Humidity    Lat  \\\n",
       "0        0  ostrovnoy           2      RU  1558378754        72  68.05   \n",
       "1        1  mahebourg          75      MU  1558378503        74 -20.41   \n",
       "2        2    qaanaaq          25      GL  1558378755        73  77.48   \n",
       "3        3     zhuhai           0      CN  1558378755        39  40.71   \n",
       "4        4  cape town          20      ZA  1558378755        76 -33.93   \n",
       "\n",
       "      Lng  Max Temp  Wind Speed  \n",
       "0   39.51     37.50        7.16  \n",
       "1   57.70     78.80       11.41  \n",
       "2  -69.36     22.20        2.37  \n",
       "3  112.04     44.60        4.47  \n",
       "4   18.42     55.99        8.05  "
      ]
     },
     "execution_count": 30,
     "metadata": {},
     "output_type": "execute_result"
    }
   ],
   "source": [
    "# Dependencies and Setup\n",
    "import matplotlib.pyplot as plt\n",
    "import pandas as pd\n",
    "import numpy as np\n",
    "import requests\n",
    "import time\n",
    "from scipy.stats import linregress\n",
    "\n",
    "# Import API key\n",
    "from api_keys import weather_api_key\n",
    "\n",
    "# Incorporated citipy to determine city based on latitude and longitude\n",
    "from citipy import citipy\n",
    "\n",
    "# Output File (CSV)\n",
    "output_data_file = \"output_data/cities.csv\"\n",
    "\n",
    "\n",
    "#create df to clean and put apis frm openweather\n",
    "\n",
    "cities_weather_df = pd.read_csv(output_data_file)\n",
    "cities_weather_df_copy = cities_weather_df\n",
    "cities_weather_df.head()"
   ]
  },
  {
   "cell_type": "code",
   "execution_count": 31,
   "metadata": {},
   "outputs": [
    {
     "data": {
      "text/plain": [
       "City_ID       548\n",
       "City          548\n",
       "Cloudiness    548\n",
       "Country       544\n",
       "Date          548\n",
       "Humidity      548\n",
       "Lat           548\n",
       "Lng           548\n",
       "Max Temp      548\n",
       "Wind Speed    548\n",
       "dtype: int64"
      ]
     },
     "execution_count": 31,
     "metadata": {},
     "output_type": "execute_result"
    }
   ],
   "source": [
    "#Are all elements equal  ...nope missing country marker.  Remove those rows that dont contain country markers\n",
    "cities_weather_df.count()"
   ]
  },
  {
   "cell_type": "code",
   "execution_count": 32,
   "metadata": {},
   "outputs": [
    {
     "data": {
      "text/plain": [
       "City_ID         int64\n",
       "City           object\n",
       "Cloudiness      int64\n",
       "Country        object\n",
       "Date            int64\n",
       "Humidity        int64\n",
       "Lat           float64\n",
       "Lng           float64\n",
       "Max Temp      float64\n",
       "Wind Speed    float64\n",
       "dtype: object"
      ]
     },
     "execution_count": 32,
     "metadata": {},
     "output_type": "execute_result"
    }
   ],
   "source": [
    "#What does the data look like?\n",
    "cities_weather_df.dtypes"
   ]
  },
  {
   "cell_type": "code",
   "execution_count": 33,
   "metadata": {},
   "outputs": [
    {
     "data": {
      "text/plain": [
       "City_ID       544\n",
       "City          544\n",
       "Cloudiness    544\n",
       "Country       544\n",
       "Date          544\n",
       "Humidity      544\n",
       "Lat           544\n",
       "Lng           544\n",
       "Max Temp      544\n",
       "Wind Speed    544\n",
       "dtype: int64"
      ]
     },
     "execution_count": 33,
     "metadata": {},
     "output_type": "execute_result"
    }
   ],
   "source": [
    "#Drop Country Rows so all elements are equal\n",
    "cities_weather_df = cities_weather_df.dropna(how='any')\n",
    "cities_weather_df.count()"
   ]
  },
  {
   "cell_type": "code",
   "execution_count": 34,
   "metadata": {},
   "outputs": [
    {
     "data": {
      "text/html": [
       "<div>\n",
       "<style scoped>\n",
       "    .dataframe tbody tr th:only-of-type {\n",
       "        vertical-align: middle;\n",
       "    }\n",
       "\n",
       "    .dataframe tbody tr th {\n",
       "        vertical-align: top;\n",
       "    }\n",
       "\n",
       "    .dataframe thead th {\n",
       "        text-align: right;\n",
       "    }\n",
       "</style>\n",
       "<table border=\"1\" class=\"dataframe\">\n",
       "  <thead>\n",
       "    <tr style=\"text-align: right;\">\n",
       "      <th></th>\n",
       "      <th>City_ID</th>\n",
       "      <th>City</th>\n",
       "      <th>Cloudiness</th>\n",
       "      <th>Country</th>\n",
       "      <th>Date</th>\n",
       "      <th>Humidity</th>\n",
       "      <th>Lat</th>\n",
       "      <th>Lng</th>\n",
       "      <th>Max Temp</th>\n",
       "      <th>Wind Speed</th>\n",
       "    </tr>\n",
       "  </thead>\n",
       "  <tbody>\n",
       "    <tr>\n",
       "      <th>0</th>\n",
       "      <td>0</td>\n",
       "      <td>ostrovnoy</td>\n",
       "      <td>2</td>\n",
       "      <td>RU</td>\n",
       "      <td>1558378754</td>\n",
       "      <td>72</td>\n",
       "      <td>68.05</td>\n",
       "      <td>39.51</td>\n",
       "      <td>37.50</td>\n",
       "      <td>7.16</td>\n",
       "    </tr>\n",
       "    <tr>\n",
       "      <th>1</th>\n",
       "      <td>1</td>\n",
       "      <td>mahebourg</td>\n",
       "      <td>75</td>\n",
       "      <td>MU</td>\n",
       "      <td>1558378503</td>\n",
       "      <td>74</td>\n",
       "      <td>-20.41</td>\n",
       "      <td>57.70</td>\n",
       "      <td>78.80</td>\n",
       "      <td>11.41</td>\n",
       "    </tr>\n",
       "    <tr>\n",
       "      <th>2</th>\n",
       "      <td>2</td>\n",
       "      <td>qaanaaq</td>\n",
       "      <td>25</td>\n",
       "      <td>GL</td>\n",
       "      <td>1558378755</td>\n",
       "      <td>73</td>\n",
       "      <td>77.48</td>\n",
       "      <td>-69.36</td>\n",
       "      <td>22.20</td>\n",
       "      <td>2.37</td>\n",
       "    </tr>\n",
       "    <tr>\n",
       "      <th>3</th>\n",
       "      <td>3</td>\n",
       "      <td>zhuhai</td>\n",
       "      <td>0</td>\n",
       "      <td>CN</td>\n",
       "      <td>1558378755</td>\n",
       "      <td>39</td>\n",
       "      <td>40.71</td>\n",
       "      <td>112.04</td>\n",
       "      <td>44.60</td>\n",
       "      <td>4.47</td>\n",
       "    </tr>\n",
       "    <tr>\n",
       "      <th>4</th>\n",
       "      <td>4</td>\n",
       "      <td>cape town</td>\n",
       "      <td>20</td>\n",
       "      <td>ZA</td>\n",
       "      <td>1558378755</td>\n",
       "      <td>76</td>\n",
       "      <td>-33.93</td>\n",
       "      <td>18.42</td>\n",
       "      <td>55.99</td>\n",
       "      <td>8.05</td>\n",
       "    </tr>\n",
       "  </tbody>\n",
       "</table>\n",
       "</div>"
      ],
      "text/plain": [
       "   City_ID       City  Cloudiness Country        Date  Humidity    Lat  \\\n",
       "0        0  ostrovnoy           2      RU  1558378754        72  68.05   \n",
       "1        1  mahebourg          75      MU  1558378503        74 -20.41   \n",
       "2        2    qaanaaq          25      GL  1558378755        73  77.48   \n",
       "3        3     zhuhai           0      CN  1558378755        39  40.71   \n",
       "4        4  cape town          20      ZA  1558378755        76 -33.93   \n",
       "\n",
       "      Lng  Max Temp  Wind Speed  \n",
       "0   39.51     37.50        7.16  \n",
       "1   57.70     78.80       11.41  \n",
       "2  -69.36     22.20        2.37  \n",
       "3  112.04     44.60        4.47  \n",
       "4   18.42     55.99        8.05  "
      ]
     },
     "execution_count": 34,
     "metadata": {},
     "output_type": "execute_result"
    }
   ],
   "source": [
    "#Building for Loop to build new dataframe with \n",
    "cities_weather_df.head()"
   ]
  },
  {
   "cell_type": "code",
   "execution_count": 35,
   "metadata": {},
   "outputs": [
    {
     "name": "stdout",
     "output_type": "stream",
     "text": [
      "{'base': 'stations',\n",
      " 'clouds': {'all': 75},\n",
      " 'cod': 200,\n",
      " 'coord': {'lat': -20.41, 'lon': 57.7},\n",
      " 'dt': 1605415368,\n",
      " 'id': 934322,\n",
      " 'main': {'feels_like': 72,\n",
      "          'humidity': 78,\n",
      "          'pressure': 1014,\n",
      "          'temp': 73.4,\n",
      "          'temp_max': 73.4,\n",
      "          'temp_min': 73.4},\n",
      " 'name': 'Mahébourg',\n",
      " 'sys': {'country': 'MU',\n",
      "         'id': 2061,\n",
      "         'sunrise': 1605403288,\n",
      "         'sunset': 1605450385,\n",
      "         'type': 1},\n",
      " 'timezone': 14400,\n",
      " 'visibility': 6000,\n",
      " 'weather': [{'description': 'shower rain',\n",
      "              'icon': '09d',\n",
      "              'id': 521,\n",
      "              'main': 'Rain'}],\n",
      " 'wind': {'deg': 200, 'speed': 12.75}}\n"
     ]
    }
   ],
   "source": [
    "#testing url pull, api key and viewing response\n",
    "from pprint import pprint\n",
    "\n",
    "from api_keys import weather_api_key\n",
    "\n",
    "lat = cities_weather_df.iloc[1,6]\n",
    "lon = cities_weather_df.iloc[1,7]\n",
    "\n",
    "url =f\"http://api.openweathermap.org/data/2.5/weather?lat={lat}&lon={lon}&units=Imperial&appid={weather_api_key}\"\n",
    "    \n",
    "response = requests.get(url).json()\n",
    "\n",
    "pprint(response)"
   ]
  },
  {
   "cell_type": "markdown",
   "metadata": {},
   "source": [
    "## Generate Cities List"
   ]
  },
  {
   "cell_type": "markdown",
   "metadata": {},
   "source": [
    "### Perform API Calls\n",
    "* Perform a weather check on each city using a series of successive API calls.\n",
    "* Include a print log of each city as it'sbeing processed (with the city number and city name).\n"
   ]
  },
  {
   "cell_type": "code",
   "execution_count": 36,
   "metadata": {
    "scrolled": true
   },
   "outputs": [
    {
     "name": "stdout",
     "output_type": "stream",
     "text": [
      "The city code for Ostrovnoy is 556268\n",
      "The city code for Mahébourg is 934322\n",
      "The city code for Qaanaaq is 3831208\n",
      "The city code for Hougonglama is 2052479\n",
      "The city code for Cape Town is 3369157\n",
      "The city code for Atuona is 4020109\n",
      "The city code for Flinders is 6255012\n",
      "The city code for Tiksi is 2015306\n",
      "The city code for Pushkinskiye Gory is 503965\n",
      "The city code for Aykhal is 2027296\n",
      "The city code for Castro is 3896218\n",
      "The city code for Avarua is 4035715\n",
      "The city code for Saskylakh is 2017155\n",
      "The city code for Durango is 4011743\n",
      "The city code for Albany is 5106834\n",
      "The city code for Vilyuysk is 2013392\n",
      "The city code for Ushuaia is 3833367\n",
      "The city code for Bambous Virieux is 1106677\n",
      "The city code for Kodinsk is 1503037\n",
      "The city code for Teknāf is 1185095\n",
      "The city code for Busselton is 2075265\n",
      "The city code for Ambon is 3037899\n",
      "The city code for Maragogi is 3395458\n",
      "The city code for Terry is 5681948\n",
      "The city code for Kantang is 1153072\n",
      "The city code for Colonelganj is 1273850\n",
      "The city code for Punta Arenas is 3874787\n",
      "The city code for Rikitea is 4030556\n",
      "The city code for New Norfolk is 2155415\n",
      "The city code for Qingdao is 1797929\n",
      "The city code for Port Hardy is 6111862\n",
      "The city code for Arman' is 2127060\n",
      "The city code for Mamakan is 2020311\n",
      "The city code for Bethel is 5880568\n",
      "The city code for Clinton is 4852022\n",
      "The city code for Varhaug is 3132644\n",
      "The city code for Çankırı is 749748\n",
      "The city code for Capitán Pablo Lagerenza is 3867427\n",
      "The city code for Hermanus is 3366880\n",
      "The city code for Torbay is 6167817\n",
      "The city code for Yellowknife is 6185377\n",
      "The city code for Kruisfontein is 986717\n",
      "The city code for Puerto Ayora is 3652764\n",
      "The city code for Rosita is 3618337\n",
      "The city code for Beloha is 1067565\n",
      "The city code for Laurel Lake is 4502621\n",
      "The city code for Port Alfred is 964432\n",
      "The city code for Garchitorena is 1713191\n",
      "The city code for Savannah is 4407665\n",
      "The city code for Caleta Olivia is 3863379\n",
      "The city code for Tāybād is 1159384\n",
      "The city code for Cabo San Lucas is 3985710\n",
      "The city code for Tiarei is 4033356\n",
      "The city code for Khatanga is 2022572\n",
      "The city code for Pisco is 3932145\n",
      "The city code for Kolyvan' is 1502822\n",
      "The city code for Hofn is 2630299\n",
      "The city code for Bontang is 1648186\n",
      "The city code for Sault Ste. Marie is 5009004\n",
      "The city code for Zhigansk is 2012530\n",
      "The city code for Thompson is 6165406\n",
      "The city code for Pevek is 2122090\n",
      "The city code for Nanortalik is 3421765\n",
      "The city code for Bilibino is 2126682\n",
      "The city code for Dikson is 1507390\n",
      "The city code for Hambantota is 1244926\n",
      "The city code for Beja is 2270985\n",
      "The city code for Fortuna is 2517679\n",
      "The city code for Capitólio is 3467241\n",
      "The city code for Qasigiannguit is 3420768\n",
      "The city code for Butaritari is 2110227\n",
      "The city code for Virginia Beach is 4791259\n",
      "The city code for Hobyo is 57000\n",
      "The city code for Vamvakoú is 252303\n",
      "The city code for Pontes e Lacerda is 3453060\n",
      "The city code for Khor is 2022317\n",
      "The city code for Crotone is 2524881\n",
      "The city code for Bāglung is 1283711\n",
      "The city code for Raglan is 2183854\n",
      "The city code for Jamestown is 2069194\n",
      "The city code for Sur is 286245\n",
      "The city code for Araouane is 2460954\n",
      "The city code for Emerald is 2167426\n",
      "The city code for Newstead is 2155392\n",
      "The city code for Ul'yanovka is 479140\n",
      "The city code for Ambilobe is 1082243\n",
      "The city code for Cidreira is 3466165\n",
      "The city code for Ternate is 1682472\n",
      "The city code for Tarauacá is 3661980\n",
      "The city code for Bella Vista is 3436062\n",
      "The city code for Xichang is 1789647\n",
      "The city code for Antioch is 5324200\n",
      "The city code for Al Mikhlāf is 109122\n",
      "The city code for Agirish is 1512101\n",
      "The city code for Gore is 6201424\n",
      "The city code for Komatsushimachō is 1858902\n",
      "The city code for Shalinskoye is 1492466\n",
      "The city code for Tres Arroyos is 3833859\n",
      "The city code for Sorong is 1626542\n",
      "The city code for Kingston is 5992500\n",
      "The city code for Ketchikan is 5554428\n",
      "The city code for Kapaa is 5848280\n",
      "The city code for Mbigou is 2398929\n",
      "The city code for Yakeshi is 2033536\n",
      "The city code for Hilo is 5855927\n",
      "The city code for Whitehorse is 6180550\n",
      "The city code for Bonthe is 2409914\n",
      "The city code for Bara is 2347758\n",
      "The city code for Lompoc is 5367788\n",
      "The city code for Port Blair is 1259385\n",
      "The city code for Bredasdorp is 1015776\n",
      "The city code for Thinadhoo is 1337610\n",
      "The city code for Koumac is 2140558\n",
      "The city code for Faanui is 4034551\n",
      "The city code for Xam Nua is 1652203\n",
      "The city code for East London is 1006984\n",
      "The city code for São Filipe is 3374210\n",
      "The city code for Deputatsky is 2028164\n",
      "The city code for Chuí is 3466187\n",
      "The city code for Ashland is 4267710\n",
      "The city code for Forio is 3176748\n",
      "The city code for Russkaya Polyana is 1493423\n",
      "The city code for San Felipe is 3872255\n",
      "The city code for Arraial do Cabo is 3471451\n",
      "The city code for Margate is 2158744\n",
      "The city code for Aklavik is 5882953\n",
      "The city code for Lokosovo is 1500399\n",
      "The city code for Paita is 3694112\n",
      "The city code for Cravo Norte is 3685702\n",
      "The city code for Motygino is 1498314\n",
      "The city code for West Wendover is 5710035\n",
      "The city code for Adrar is 2508813\n",
      "The city code for Melfi is 3173615\n",
      "The city code for Kibungo is 202068\n",
      "The city code for Iqaluit is 5983720\n",
      "The city code for Lavrentiya is 4031637\n",
      "The city code for Morondava is 1058381\n",
      "The city code for Londa is 1264792\n",
      "The city code for Georgetown is 3378644\n",
      "The city code for Linqiong is 1803365\n",
      "The city code for Sarāi Mīr is 1257260\n",
      "The city code for Yichun is 2033413\n",
      "The city code for Plainview is 5528450\n",
      "The city code for Comodoro Rivadavia is 3860443\n",
      "The city code for Nardaran is 585388\n",
      "The city code for Nagua is 3496021\n",
      "The city code for Ibrā’ is 287832\n",
      "The city code for Ganzhou is 1810638\n",
      "The city code for Talnakh is 1490256\n",
      "The city code for Palmar Chico is 3993857\n",
      "The city code for Sinnamary is 6690707\n",
      "The city code for Caraguatatuba is 3467081\n",
      "The city code for Havøysund is 779622\n",
      "The city code for Bjørnevatn is 780643\n",
      "The city code for Narsaq is 3421719\n",
      "The city code for Charlestown is 5221384\n",
      "The city code for Trat is 1605279\n",
      "The city code for Manado is 1636544\n",
      "The city code for Trapani is 6542155\n",
      "The city code for São João da Barra is 3448903\n",
      "The city code for Saint-Philippe is 6138908\n",
      "The city code for Haines Junction is 5969025\n",
      "The city code for Kathmandu is 7800827\n",
      "The city code for Norman Wells is 6089245\n",
      "The city code for Brainerd is 5019116\n",
      "The city code for Xiaxihao is 1529061\n",
      "The city code for Straumen is 3135728\n",
      "The city code for Camacha is 2270385\n",
      "The city code for Tekanto is 3516078\n",
      "The city code for Vitim is 2013375\n",
      "The city code for Antsohihy is 1068971\n",
      "The city code for Kavieng is 2094342\n",
      "The city code for La Esperanza is 3607966\n",
      "The city code for Clyde River is 5924351\n",
      "The city code for Nador is 2541479\n",
      "The city code for Keflavik is 3415496\n",
      "The city code for Abhā is 110690\n",
      "The city code for Chokurdakh is 2126123\n",
      "The city code for Le Marin is 3570426\n",
      "The city code for Tasiilaq is 3424607\n",
      "The city code for Udachny is 2014624\n",
      "The city code for Crown Hill is 2277960\n",
      "The city code for Burnie is 2173125\n",
      "The city code for Balclutha is 2208248\n",
      "The city code for Yatsuomachi-higashikumisaka is 1848447\n",
      "The city code for MacKay is 6063111\n",
      "The city code for Lagoa is 2267254\n",
      "The city code for Blackwater is 2175403\n",
      "The city code for Saint-Georges is 6620953\n",
      "The city code for Naryan-Mar is 523392\n",
      "The city code for Port Hedland is 2063042\n",
      "The city code for Hithadhoo is 1282256\n",
      "The city code for Beringovskiy is 2126710\n",
      "The city code for Coraki is 2170375\n",
      "The city code for Ilulissat is 3423146\n",
      "The city code for Coquimbo is 3893629\n",
      "The city code for Grand Baie is 934482\n",
      "The city code for Kaabong is 233093\n",
      "The city code for Ampliación Colonia Lázaro Cárdenas is 4013377\n",
      "The city code for Luanda is 2240449\n",
      "The city code for Río Gallegos is 3838859\n",
      "The city code for Namatanai is 2090021\n",
      "The city code for Severo-Kuril'sk is 2121385\n",
      "The city code for Choujiang is 7071227\n",
      "The city code for Namioka is 2129005\n",
      "The city code for Mnogovershinnyy is 2019935\n",
      "The city code for San Rafael del Sur is 3616594\n",
      "The city code for Paamiut is 3421193\n",
      "The city code for Ribeira Grande is 3372707\n",
      "The city code for South Kalimantan is 1641899\n",
      "The city code for Mount Gambier is 7839440\n",
      "The city code for Pesca is 3672428\n",
      "The city code for Mount Isa is 2065594\n"
     ]
    },
    {
     "name": "stdout",
     "output_type": "stream",
     "text": [
      "The city code for Larbont is 3007059\n",
      "The city code for Hobart is 2163355\n",
      "The city code for Mountjoy is 2962486\n",
      "The city code for New Salalah is 7630442\n",
      "The city code for Oskarsborg is 3143250\n",
      "The city code for Ust-Tsilma is 477940\n",
      "The city code for Marawi is 1701054\n",
      "The city code for Nueva Loja is 3655185\n",
      "The city code for Koronowo is 3095192\n",
      "The city code for Ekimchan is 2024461\n",
      "The city code for Carnarvon is 1014034\n",
      "The city code for Saint-Denis is 2980916\n",
      "The city code for Tabas is 113659\n",
      "The city code for San Pedro is 3428576\n",
      "The city code for Aketi is 220448\n",
      "The city code for Moses Lake is 5803990\n",
      "The city code for Província de Zambézia is 1024312\n",
      "The city code for Hamilton is 5969782\n",
      "The city code for San Juan del Sur is 3616726\n",
      "The city code for Katabu is 1640972\n",
      "The city code for Banjar is 1650233\n",
      "The city code for Provideniya is 4031574\n",
      "The city code for Andradas is 3472254\n",
      "The city code for Magnano is 6535335\n",
      "The city code for Manzhouli is 2035836\n",
      "The city code for Lockhart is 2159774\n",
      "The city code for Anadyr is 2127202\n",
      "The city code for Bandarbeyla is 64814\n",
      "The city code for Buchach is 711348\n",
      "The city code for Pasni is 1168312\n",
      "The city code for Tuktoyaktuk is 6170031\n",
      "The city code for Okha is 2122614\n",
      "The city code for Puerto Escondido is 3520994\n",
      "The city code for Ancud is 3899695\n",
      "The city code for Ādīs is 344982\n",
      "The city code for Port Lincoln is 7839452\n",
      "The city code for Leningradskiy is 2123814\n",
      "The city code for Kajaani is 654899\n",
      "The city code for Murray Bridge is 2065176\n",
      "The city code for Rocha is 3440777\n",
      "The city code for Tagusao is 1684245\n",
      "The city code for Cobija is 3919998\n",
      "The city code for Port-Gentil is 2396518\n",
      "The city code for Te Anau is 2181625\n",
      "The city code for Kumul is 1529484\n",
      "The city code for Pahrump is 5509851\n",
      "The city code for Fort Frances is 5955826\n",
      "The city code for Mthatha is 946058\n",
      "The city code for Gora Sinyushina is 2056880\n",
      "The city code for Saint-Leu is 6690297\n",
      "The city code for Gialo is 86049\n",
      "The city code for Alice Springs is 2077895\n",
      "The city code for Zaraza is 3625066\n",
      "The city code for Dingle is 1714733\n",
      "The city code for Bodden Town is 3580733\n",
      "The city code for Yoogali is 2142273\n",
      "The city code for Coyhaique is 3894426\n",
      "The city code for São Félix do Xingu is 3388847\n",
      "The city code for Santa Rosa is 3835994\n",
      "The city code for Goderich is 5962442\n",
      "The city code for Icaraí is 3385226\n",
      "The city code for Rabo de Peixe is 3372745\n",
      "The city code for Soyo is 2236967\n",
      "The city code for Cayenne is 6690689\n",
      "The city code for Vila de Ala is 8014236\n",
      "The city code for Saquisilí is 3651251\n",
      "The city code for Hasaki is 2112802\n",
      "The city code for Slave Lake is 6149374\n",
      "The city code for Christchurch is 2192362\n",
      "The city code for Kibakwe is 158024\n",
      "The city code for San Andres is 1690438\n",
      "The city code for Pangnirtung is 6096551\n",
      "The city code for San Quintin is 1688687\n",
      "The city code for Mason is 5802584\n",
      "The city code for Dudinka is 1507116\n",
      "The city code for Florida is 3558771\n",
      "The city code for Madikeri is 1264540\n",
      "The city code for Canaan is 3574888\n",
      "The city code for Takoradze is 2294915\n",
      "The city code for Lokomotivnyy is 1538638\n",
      "The city code for Khāsh is 1160571\n",
      "The city code for Mogok is 1308937\n",
      "The city code for Mikkeli is 646005\n",
      "The city code for Jiuquan is 1279945\n",
      "The city code for Betafo is 1066514\n",
      "The city code for Aitape is 2101169\n",
      "The city code for Alofi is 4036284\n",
      "The city code for Yulara is 6355222\n",
      "The city code for Kvarkeno is 537541\n",
      "The city code for Salinópolis is 3389822\n",
      "The city code for Chunhuhub is 3530691\n",
      "The city code for Dunedin is 2191562\n",
      "The city code for Kass Wollof is 2413052\n",
      "The city code for Upernavik is 3418910\n",
      "The city code for Ainaro is 1651810\n",
      "The city code for Balkanabat is 161616\n",
      "The city code for Syumsi is 485064\n",
      "The city code for Loukhi is 533964\n",
      "The city code for Baruun-Urt is 2032614\n",
      "The city code for Miraflores is 3674735\n",
      "The city code for Gunjur is 2413419\n",
      "The city code for Wajima is 1848976\n",
      "The city code for Buala is 2109528\n",
      "The city code for Rajada is 3390864\n",
      "The city code for Cascades Region is 6930703\n",
      "The city code for Mandera is 187896\n",
      "The city code for Tshikapa is 204953\n",
      "The city code for Juneau is 5554072\n",
      "The city code for Sidney is 5677735\n",
      "The city code for Edd is 338345\n",
      "The city code for Cockburn Town is 3576994\n",
      "The city code for Shimokizukuri is 2129513\n",
      "The city code for Vung Tau is 1562414\n",
      "The city code for Ballinure is 3286703\n",
      "The city code for Biltine is 244878\n",
      "The city code for Ishigaki is 1861416\n",
      "The city code for Morant Bay is 3489440\n",
      "The city code for Raduzhny is 1540356\n",
      "The city code for San Patricio is 3437029\n",
      "The city code for Hulan Ergi is 2036670\n",
      "The city code for Thayetmyo is 1292037\n",
      "The city code for Acapulco de Juárez is 3533462\n",
      "The city code for Port Shepstone is 964406\n",
      "The city code for Tautira is 4033557\n",
      "The city code for Arequipa is 3947322\n",
      "The city code for Raymond is 5091636\n",
      "The city code for Road Town is 3577430\n",
      "The city code for Yar-Sale is 1486321\n",
      "The city code for Iwanai is 2129868\n",
      "The city code for Eséka is 2231881\n",
      "The city code for Chiredzi is 893485\n",
      "The city code for Tigil' is 2120612\n",
      "The city code for Gibson is 4197055\n",
      "The city code for Muzhi is 1498161\n",
      "The city code for Promyshlennyy is 1494088\n",
      "The city code for Chapais is 5919850\n",
      "The city code for Luwuk is 1637001\n",
      "The city code for Darhan is 2031964\n",
      "The city code for Daru is 2409663\n",
      "The city code for Onokhoy is 2018436\n",
      "The city code for Leh is 1264976\n",
      "The city code for Banda Aceh is 1215502\n",
      "The city code for Alyangula is 2079582\n",
      "The city code for Sørland is 3137469\n",
      "The city code for Fort Nelson is 5955902\n",
      "The city code for Serut is 7579627\n",
      "The city code for Datong is 2037799\n",
      "The city code for Vila Franca do Campo is 3372472\n",
      "The city code for Akureyri is 2633274\n",
      "The city code for Ulladulla is 2145554\n",
      "The city code for Ust'-Barguzin is 2013986\n",
      "The city code for Pampierstad is 966380\n",
      "The city code for Zyryanovsk is 1516438\n",
      "The city code for Cooma is 2170577\n",
      "The city code for Sfântu Gheorghe is 667306\n",
      "The city code for Carballo is 3126369\n",
      "The city code for Kōchi is 1859143\n",
      "The city code for Novonukutskiy is 2015469\n",
      "The city code for Reguengos de Monsaraz is 2263974\n",
      "The city code for Ocean City is 4166723\n",
      "The city code for Qinhuangdao is 1797595\n",
      "The city code for Muskegon is 5003132\n",
      "The city code for Kargasok is 1504382\n",
      "The city code for Gidan Sarkin Gardi is 2340788\n",
      "The city code for Kayseri is 308464\n",
      "The city code for Quanzhou is 1797353\n",
      "The city code for Nago–Torbole is 3172402\n",
      "The city code for Medicine Hat is 6071618\n",
      "The city code for Cherskiy is 2126199\n",
      "The city code for Santa Maria is 3450083\n",
      "The city code for North Bend is 5742974\n",
      "The city code for Villa Pacajes is 6254880\n",
      "The city code for Geraldton is 5960603\n",
      "The city code for Pons is 6453732\n",
      "The city code for La Ronge is 6050066\n",
      "The city code for Mossamedes is 3347019\n",
      "The city code for Westport is 2960970\n",
      "The city code for Juiz de Fora is 3459505\n",
      "The city code for Lagos is 2332459\n",
      "The city code for Half Moon Bay is 5354943\n",
      "The city code for Nelson Bay is 2155562\n",
      "The city code for Tuatapere is 2180815\n",
      "The city code for Grindavik is 3416888\n",
      "The city code for Xining is 1788852\n",
      "The city code for Kieta is 2094027\n",
      "The city code for Kalabo is 915471\n",
      "The city code for Sambava is 1056899\n",
      "The city code for Wawa is 2319078\n",
      "The city code for Adh Dhayd is 292953\n",
      "The city code for Labuan is 1733782\n",
      "The city code for Bradford Woods is 5181428\n",
      "The city code for Kyren is 2021031\n",
      "The city code for Boquira is 3469190\n",
      "The city code for Bathsheba is 3374083\n",
      "The city code for Ogbomoso is 2327735\n",
      "The city code for Longyearbyen is 2729907\n",
      "The city code for Diu is 1272502\n",
      "The city code for Shebalino is 1492299\n",
      "The city code for Ziarat Shah-i-Mardan is 1399489\n",
      "The city code for Hare Bay is 5970873\n",
      "The city code for Kirkuk is 94787\n",
      "The city code for Kablaké is 2287738\n",
      "The city code for Ahipara is 2194098\n",
      "The city code for Byron Bay is 2172880\n",
      "The city code for Isangel is 2136825\n",
      "The city code for Mandelieu-la-Napoule is 6618150\n",
      "The city code for Susuman is 2120864\n",
      "The city code for Plattling is 2853310\n",
      "The city code for Arenápolis is 3471551\n",
      "The city code for Tocopilla is 3869716\n",
      "The city code for Ridgway is 5208292\n",
      "The city code for Hastings is 2190224\n",
      "The city code for Okhotsk is 2122605\n"
     ]
    },
    {
     "name": "stdout",
     "output_type": "stream",
     "text": [
      "The city code for Maniitsoq is 3421982\n",
      "The city code for Meulaboh is 1214488\n",
      "The city code for Cartagena del Chairá is 3792382\n",
      "The city code for Macau is 3395998\n",
      "The city code for Svodín is 3057273\n",
      "The city code for Labuan is 1733782\n",
      "The city code for Don Luan is 1582436\n",
      "The city code for Zaysan is 1517060\n",
      "The city code for Sioux Lookout is 6148373\n",
      "The city code for Otane is 2185329\n",
      "The city code for Vila do Maio is 3374120\n",
      "The city code for Brae is 2654970\n",
      "The city code for Russkiy Aktash is 583573\n",
      "The city code for Kokstad is 988356\n",
      "The city code for Lucapa is 145724\n",
      "The city code for Birjand is 140463\n",
      "The city code for Ingham is 2162737\n",
      "The city code for Tilichiki is 2120591\n",
      "The city code for Doha is 290030\n",
      "The city code for Makakilo is 7262761\n",
      "The city code for Lorengau is 2092164\n",
      "The city code for Anan is 1865309\n",
      "The city code for Synya is 485215\n",
      "The city code for Thanatpin is 1292579\n",
      "The city code for Altagracia de Orituco is 3649408\n",
      "The city code for Anking is 1817993\n",
      "The city code for China is 4680774\n",
      "The city code for Lahaina is 5849996\n",
      "The city code for Hereford is 2647074\n",
      "The city code for Orán is 3836620\n",
      "The city code for Manuk Mangkaw is 1701394\n",
      "The city code for Prainha is 3391287\n",
      "The city code for Pacific Grove is 5380437\n",
      "The city code for Tam Ky is 1567148\n",
      "The city code for Atasū is 1526041\n",
      "The city code for Seshcha is 496503\n",
      "The city code for Noril'sk is 1497337\n",
      "The city code for Los Teques is 3633622\n",
      "The city code for Santa Fe is 3651431\n",
      "The city code for San Ramón is 3616584\n",
      "The city code for Nou Barris is 6252065\n",
      "The city code for Delogožda is 791548\n",
      "The city code for Sawtell is 2150163\n",
      "The city code for Seoul is 1835848\n",
      "The city code for Plettenberg Bay is 964712\n",
      "The city code for Santa Helena is 3577101\n",
      "The city code for Belmonte Municipality is 8010472\n",
      "The city code for Bundaberg is 2173323\n",
      "The city code for Samarinda is 1629001\n",
      "The city code for Dzhezkazgan is 1516589\n",
      "The city code for Obonoma is 2328185\n",
      "The city code for Narok is 184379\n",
      "The city code for Muravlenko is 1540711\n",
      "The city code for Necochea is 3430443\n",
      "The city code for Talcahuano is 3870282\n",
      "The city code for San-Pédro is 2282006\n",
      "The city code for Bismarck is 5688025\n",
      "The city code for San Pedro Jicayán is 3517988\n",
      "The city code for Mīzan Teferī is 330534\n",
      "The city code for Rio Manso is 3451126\n",
      "The city code for Egbe is 2343943\n",
      "The city code for Bouca is 2387890\n",
      "The city code for Bolobo is 2316748\n",
      "The city code for Nuuk is 3421319\n",
      "The city code for Baylo is 1725761\n",
      "The city code for Fuxin is 2037346\n",
      "The city code for Chërnaya Kholunitsa is 568954\n",
      "The city code for Havelock is 4470244\n",
      "The city code for Traverse City is 5012495\n",
      "The city code for Champotón is 3531177\n",
      "The city code for Mandalgovi is 2030065\n",
      "The city code for Delémont is 2661035\n",
      "The city code for Chauk is 1327659\n",
      "The city code for Kambove is 923058\n",
      "The city code for Tutóia is 3385899\n",
      "The city code for Touros is 3386213\n",
      "The city code for Babati is 161312\n",
      "The city code for Graaff-Reinet is 1000543\n",
      "The city code for Noumea is 2139521\n",
      "The city code for Pilot Butte is 6104745\n",
      "The city code for Atar is 2381334\n",
      "The city code for Valença do Piauí is 3385592\n",
      "The city code for Natchez is 4437982\n",
      "The city code for Denpasar is 1645528\n",
      "The city code for Loikaw is 1313479\n",
      "The city code for Madaoua is 2441530\n",
      "The city code for Malindi is 187968\n",
      "The city code for Along is 1278969\n",
      "The city code for Bonito is 3469294\n",
      "The city code for Saint Anthony is 5606187\n",
      "The city code for High Prairie is 5975034\n",
      "The city code for High Rock is 3572189\n",
      "The city code for Måløy is 3146487\n",
      "The city code for Kununurra is 2068110\n",
      "The city code for Mogadishu is 53654\n",
      "The city code for Makkah al Mukarramah is 104515\n",
      "The city code for Viedma is 3832899\n",
      "The city code for Tomatlán is 3981391\n",
      "The city code for Lyuban' is 625721\n",
      "The city code for Bonavista is 5905393\n",
      "The city code for Hirara is 1862505\n",
      "The city code for Lunlunta is 3845366\n",
      "The city code for Burns Lake is 5911745\n",
      "The city code for Lempäälä is 648369\n",
      "The city code for Nisab is 72181\n",
      "The city code for Villaviciosa is 3104707\n",
      "The city code for Padang is 1633419\n",
      "The city code for Matam is 2248752\n",
      "The city code for La Seyne-sur-Mer is 6456548\n",
      "The city code for Palu is 1633034\n",
      "The city code for Tal'menka is 1490266\n",
      "The city code for Tamworth is 2147497\n",
      "The city code for Perth is 2640358\n",
      "The city code for Yabrūd is 162627\n",
      "The city code for Durango is 4011743\n",
      "The city code for Valliquerville is 6443565\n",
      "The city code for Novyy Urgal is 2047258\n",
      "The city code for Tongren is 1792592\n"
     ]
    }
   ],
   "source": [
    "#Start getting the weather from the clean dataframe using openweatherapi \n",
    "#City\tLat\tLng\tMax Temp\tHumidity\tCloudiness\tWind Speed\tCountry\tDate\n",
    "# n_city_id = response['cod']\n",
    "\n",
    "n_city_name = []\n",
    "n_lon = []\n",
    "n_lat = []\n",
    "n_max_temp = []\n",
    "n_humidity = []\n",
    "n_cloudiness = []\n",
    "n_wind_speed = []\n",
    "n_country = []\n",
    "n_date = []\n",
    "\n",
    "from pprint import pprint\n",
    "\n",
    "from api_keys import weather_api_key\n",
    "\n",
    "for index, row in cities_weather_df.iterrows():\n",
    "    lat = row['Lat']\n",
    "    lon = row['Lng']\n",
    "    \n",
    "    api_w_key = weather_api_key\n",
    "    \n",
    "    url =f\"http://api.openweathermap.org/data/2.5/weather?lat={lat}&lon={lon}&units=imperial&appid={api_w_key}\"\n",
    "    \n",
    "    response = requests.get(url).json()\n",
    "    \n",
    "    n_city_id = response['id']\n",
    "    city=response['name']\n",
    "    \n",
    "    print(f'The city code for {city} is {n_city_id}')\n",
    "    \n",
    "    n_city_name.append(response['name'])\n",
    "    n_lat.append(response['coord']['lat'])\n",
    "    n_lon.append(response['coord']['lon'])\n",
    "    n_max_temp.append(response['main']['temp_max'])\n",
    "    n_humidity.append(response['main']['humidity'])\n",
    "    n_cloudiness.append(response['clouds']['all'])\n",
    "    n_wind_speed.append(response['wind']['speed'])\n",
    "    n_country.append(response['sys']['country'])\n",
    "    n_date.append(response['dt'])\n",
    "    "
   ]
  },
  {
   "cell_type": "markdown",
   "metadata": {},
   "source": [
    "### Convert Raw Data to DataFrame\n",
    "* Export the city data into a .csv.\n",
    "* Display the DataFrame"
   ]
  },
  {
   "cell_type": "code",
   "execution_count": 37,
   "metadata": {
    "scrolled": false
   },
   "outputs": [
    {
     "data": {
      "text/plain": [
       "City          544\n",
       "Lat           544\n",
       "Long          544\n",
       "Max Temp      544\n",
       "Humidity      544\n",
       "Cloudiness    544\n",
       "Wind Speed    544\n",
       "Country       544\n",
       "Date          544\n",
       "dtype: int64"
      ]
     },
     "execution_count": 37,
     "metadata": {},
     "output_type": "execute_result"
    }
   ],
   "source": [
    "#Convert Data to DF City\tLat\tLng\tMax Temp\tHumidity\tCloudiness\tWind Speed\tCountry\tDate\n",
    "\n",
    "n_cities_weather_df = pd.DataFrame({'City': n_city_name , 'Lat': n_lat, 'Long': n_lon,\n",
    "                                  'Max Temp': n_max_temp, 'Humidity': n_humidity, 'Cloudiness': n_cloudiness,\n",
    "                                  'Wind Speed': n_wind_speed, 'Country': n_country, 'Date': n_date})\n",
    "n_cities_weather_df.count()"
   ]
  },
  {
   "cell_type": "code",
   "execution_count": 38,
   "metadata": {},
   "outputs": [],
   "source": [
    "n_cities_weather_df.to_csv(\"output_data/cities_1.csv\")"
   ]
  },
  {
   "cell_type": "markdown",
   "metadata": {},
   "source": [
    "## Inspect the data and remove the cities where the humidity > 100%.\n",
    "----\n",
    "Skip this step if there are no cities that have humidity > 100%. "
   ]
  },
  {
   "cell_type": "code",
   "execution_count": 68,
   "metadata": {},
   "outputs": [
    {
     "data": {
      "text/plain": [
       "0.16"
      ]
     },
     "execution_count": 68,
     "metadata": {},
     "output_type": "execute_result"
    }
   ],
   "source": [
    "n_cities_weather_df.index\n",
    "n_cities_weather_df['Wind Speed'].min()"
   ]
  },
  {
   "cell_type": "code",
   "execution_count": 40,
   "metadata": {},
   "outputs": [
    {
     "name": "stdout",
     "output_type": "stream",
     "text": [
      "99\n",
      "530\n"
     ]
    }
   ],
   "source": [
    "# Make a new DataFrame equal to the city data to drop all humidity outliers by index.\n",
    "# Passing \"inplace=False\" will make a copy of the city_data DataFrame, which we call \"clean_city_data\".\n",
    "clean_city_data = n_cities_weather_df.loc[n_cities_weather_df['Humidity']< 100]\n",
    "print(clean_city_data['Humidity'].max())\n",
    "print(clean_city_data['Humidity'].count())"
   ]
  },
  {
   "cell_type": "markdown",
   "metadata": {},
   "source": [
    "## Plotting the Data\n",
    "* Use proper labeling of the plots using plot titles (including date of analysis) and axes labels.\n",
    "* Save the plotted figures as .pngs."
   ]
  },
  {
   "cell_type": "code",
   "execution_count": 41,
   "metadata": {
    "scrolled": true
   },
   "outputs": [],
   "source": [
    "# Range of latitudes and longitudes\n",
    "lat_range = (-90, 90)\n",
    "lng_range = (-180, 180)"
   ]
  },
  {
   "cell_type": "markdown",
   "metadata": {},
   "source": [
    "## Latitude vs. Temperature Plot"
   ]
  },
  {
   "cell_type": "code",
   "execution_count": 49,
   "metadata": {},
   "outputs": [
    {
     "data": {
      "text/html": [
       "<div>\n",
       "<style scoped>\n",
       "    .dataframe tbody tr th:only-of-type {\n",
       "        vertical-align: middle;\n",
       "    }\n",
       "\n",
       "    .dataframe tbody tr th {\n",
       "        vertical-align: top;\n",
       "    }\n",
       "\n",
       "    .dataframe thead th {\n",
       "        text-align: right;\n",
       "    }\n",
       "</style>\n",
       "<table border=\"1\" class=\"dataframe\">\n",
       "  <thead>\n",
       "    <tr style=\"text-align: right;\">\n",
       "      <th></th>\n",
       "      <th>City</th>\n",
       "      <th>Lat</th>\n",
       "      <th>Long</th>\n",
       "      <th>Max Temp</th>\n",
       "      <th>Humidity</th>\n",
       "      <th>Cloudiness</th>\n",
       "      <th>Wind Speed</th>\n",
       "      <th>Country</th>\n",
       "      <th>Date</th>\n",
       "    </tr>\n",
       "  </thead>\n",
       "  <tbody>\n",
       "  </tbody>\n",
       "</table>\n",
       "</div>"
      ],
      "text/plain": [
       "Empty DataFrame\n",
       "Columns: [City, Lat, Long, Max Temp, Humidity, Cloudiness, Wind Speed, Country, Date]\n",
       "Index: []"
      ]
     },
     "execution_count": 49,
     "metadata": {},
     "output_type": "execute_result"
    }
   ],
   "source": [
    "clean_city_data.head(0)"
   ]
  },
  {
   "cell_type": "code",
   "execution_count": 73,
   "metadata": {
    "scrolled": false
   },
   "outputs": [
    {
     "data": {
      "text/plain": [
       "<Figure size 432x288 with 0 Axes>"
      ]
     },
     "metadata": {},
     "output_type": "display_data"
    },
    {
     "data": {
      "image/png": "[encoded data removed]",
      "text/plain": [
       "<Figure size 432x288 with 1 Axes>"
      ]
     },
     "metadata": {
      "needs_background": "light"
     },
     "output_type": "display_data"
    },
    {
     "data": {
      "text/plain": [
       "'The horizontal Zero off the y axis represents the equator and as the grid moves further from zero, in either direction, temperatures begin to decrease.'"
      ]
     },
     "execution_count": 73,
     "metadata": {},
     "output_type": "execute_result"
    }
   ],
   "source": [
    "plt.figure()\n",
    "fig = clean_city_data.plot.scatter('Max Temp', 'Lat', color='blue', alpha = .75, grid = True)\n",
    "plt.title('Temperature (°F) vs Latitude')\n",
    "plt.xlabel('Temperature (°F)')\n",
    "plt.ylabel('Latitude 90 to -90')\n",
    "plt.xlim(-30,120)\n",
    "plt.ylim(-90, 90)\n",
    "plt.savefig(\"temp_v_lat.png\")\n",
    "plt.show()\n",
    "\n",
    "'''The horizontal Zero off the y axis represents the equator and as the grid moves further from zero, in either direction, temperatures begin to decrease.'''"
   ]
  },
  {
   "cell_type": "markdown",
   "metadata": {},
   "source": [
    "## Latitude vs. Humidity Plot"
   ]
  },
  {
   "cell_type": "code",
   "execution_count": 74,
   "metadata": {},
   "outputs": [
    {
     "data": {
      "text/plain": [
       "<Figure size 432x288 with 0 Axes>"
      ]
     },
     "metadata": {},
     "output_type": "display_data"
    },
    {
     "data": {
      "image/png": "[encoded data removed]",
      "text/plain": [
       "<Figure size 432x288 with 1 Axes>"
      ]
     },
     "metadata": {
      "needs_background": "light"
     },
     "output_type": "display_data"
    },
    {
     "data": {
      "text/plain": [
       "'Humidity is fairly evenly distributed around horizonal zero, but has a significant cluster of points in the 60 degree with over 80% humidity.'"
      ]
     },
     "execution_count": 74,
     "metadata": {},
     "output_type": "execute_result"
    }
   ],
   "source": [
    "plt.figure()\n",
    "fig = clean_city_data.plot.scatter('Humidity', 'Lat', color='red', alpha=0.5, grid=True)\n",
    "plt.title('Humidity % vs Latitude')\n",
    "plt.xlabel('Humidity as %')\n",
    "plt.ylabel('Latitude 90 to -90')\n",
    "plt.xlim(0, 100)\n",
    "plt.ylim(-90, 90)\n",
    "plt.savefig(\"humidity_v_lat.png\")\n",
    "plt.show()\n",
    "\n",
    "'''Humidity is fairly evenly distributed around horizonal zero, but has a significant cluster of points in the 60 degree with over 80% humidity.'''"
   ]
  },
  {
   "cell_type": "markdown",
   "metadata": {},
   "source": [
    "## Latitude vs. Cloudiness Plot"
   ]
  },
  {
   "cell_type": "code",
   "execution_count": 76,
   "metadata": {},
   "outputs": [
    {
     "data": {
      "text/plain": [
       "<Figure size 432x288 with 0 Axes>"
      ]
     },
     "metadata": {},
     "output_type": "display_data"
    },
    {
     "data": {
      "image/png": "[encoded data removed]",
      "text/plain": [
       "<Figure size 432x288 with 1 Axes>"
      ]
     },
     "metadata": {
      "needs_background": "light"
     },
     "output_type": "display_data"
    },
    {
     "data": {
      "text/plain": [
       "' Cloudiness is even distributed along the horizontal zero line.  No discernable points or clusters.'"
      ]
     },
     "execution_count": 76,
     "metadata": {},
     "output_type": "execute_result"
    }
   ],
   "source": [
    "plt.figure()\n",
    "fig = clean_city_data.plot.scatter('Cloudiness', 'Lat', color='green', alpha=0.5, grid=True)\n",
    "plt.title('Cloudiness % vs Latitude')\n",
    "plt.xlabel('Cloudiness %')\n",
    "plt.ylabel('Latitude 90 to -90')\n",
    "plt.xlim(0, 100)\n",
    "plt.ylim(-90, 90)\n",
    "plt.savefig(\"cloud_v_lat.png\")\n",
    "plt.show()\n",
    "\n",
    "\n",
    "''' Cloudiness is even distributed along the horizontal zero line.  No discernable points or clusters.'''"
   ]
  },
  {
   "cell_type": "markdown",
   "metadata": {},
   "source": [
    "## Latitude vs. Wind Speed Plot"
   ]
  },
  {
   "cell_type": "code",
   "execution_count": 75,
   "metadata": {},
   "outputs": [
    {
     "data": {
      "text/plain": [
       "<Figure size 432x288 with 0 Axes>"
      ]
     },
     "metadata": {},
     "output_type": "display_data"
    },
    {
     "data": {
      "image/png": "[encoded data removed]",
      "text/plain": [
       "<Figure size 432x288 with 1 Axes>"
      ]
     },
     "metadata": {
      "needs_background": "light"
     },
     "output_type": "display_data"
    },
    {
     "data": {
      "text/plain": [
       "'Wind speed is even distributed between 0 and 10 and along the horizontal zero line.  A few high wind speeds, above 30, occur further away from zero.'"
      ]
     },
     "execution_count": 75,
     "metadata": {},
     "output_type": "execute_result"
    }
   ],
   "source": [
    "plt.figure()\n",
    "fig = clean_city_data.plot.scatter('Wind Speed', 'Lat', color='orange', alpha=1, grid=True)\n",
    "plt.title('Wind Speed (mph) vs Latitude')\n",
    "plt.xlabel('Wind Speed (mph)')\n",
    "plt.ylabel('Latitude 90 to -90')\n",
    "plt.xlim(0, 40)\n",
    "plt.ylim(-90, 90)\n",
    "plt.savefig(\"wind_v_lat.png\")\n",
    "plt.show()\n",
    "\n",
    "\n",
    "'''Wind speed is even distributed between 0 and 10 and along the horizontal zero line.  A few high wind speeds, above 30, occur further away from zero.'''"
   ]
  },
  {
   "cell_type": "markdown",
   "metadata": {},
   "source": [
    "## Linear Regression"
   ]
  },
  {
   "cell_type": "code",
   "execution_count": 77,
   "metadata": {},
   "outputs": [
    {
     "data": {
      "text/html": [
       "<div>\n",
       "<style scoped>\n",
       "    .dataframe tbody tr th:only-of-type {\n",
       "        vertical-align: middle;\n",
       "    }\n",
       "\n",
       "    .dataframe tbody tr th {\n",
       "        vertical-align: top;\n",
       "    }\n",
       "\n",
       "    .dataframe thead th {\n",
       "        text-align: right;\n",
       "    }\n",
       "</style>\n",
       "<table border=\"1\" class=\"dataframe\">\n",
       "  <thead>\n",
       "    <tr style=\"text-align: right;\">\n",
       "      <th></th>\n",
       "      <th>City</th>\n",
       "      <th>Lat</th>\n",
       "      <th>Long</th>\n",
       "      <th>Max Temp</th>\n",
       "      <th>Humidity</th>\n",
       "      <th>Cloudiness</th>\n",
       "      <th>Wind Speed</th>\n",
       "      <th>Country</th>\n",
       "      <th>Date</th>\n",
       "    </tr>\n",
       "  </thead>\n",
       "  <tbody>\n",
       "    <tr>\n",
       "      <th>0</th>\n",
       "      <td>Ostrovnoy</td>\n",
       "      <td>68.05</td>\n",
       "      <td>39.51</td>\n",
       "      <td>32.72</td>\n",
       "      <td>93</td>\n",
       "      <td>98</td>\n",
       "      <td>20.0</td>\n",
       "      <td>RU</td>\n",
       "      <td>1605415338</td>\n",
       "    </tr>\n",
       "  </tbody>\n",
       "</table>\n",
       "</div>"
      ],
      "text/plain": [
       "        City    Lat   Long  Max Temp  Humidity  Cloudiness  Wind Speed  \\\n",
       "0  Ostrovnoy  68.05  39.51     32.72        93          98        20.0   \n",
       "\n",
       "  Country        Date  \n",
       "0      RU  1605415338  "
      ]
     },
     "execution_count": 77,
     "metadata": {},
     "output_type": "execute_result"
    }
   ],
   "source": [
    "clean_city_data.head(1)"
   ]
  },
  {
   "cell_type": "code",
   "execution_count": 85,
   "metadata": {},
   "outputs": [
    {
     "data": {
      "text/plain": [
       "0.12"
      ]
     },
     "execution_count": 85,
     "metadata": {},
     "output_type": "execute_result"
    }
   ],
   "source": [
    "n_hemi = clean_city_data.loc[clean_city_data['Lat']>=0]\n",
    "n_hemi['Lat'].min()"
   ]
  },
  {
   "cell_type": "markdown",
   "metadata": {},
   "source": [
    "####  Northern Hemisphere - Max Temp vs. Latitude Linear Regression"
   ]
  },
  {
   "cell_type": "code",
   "execution_count": 99,
   "metadata": {},
   "outputs": [
    {
     "data": {
      "image/png": "[encoded data removed]",
      "text/plain": [
       "<Figure size 432x288 with 1 Axes>"
      ]
     },
     "metadata": {
      "needs_background": "light"
     },
     "output_type": "display_data"
    },
    {
     "data": {
      "text/plain": [
       "'Strong relationship between Latitude and Temperature. As temperature increase, the closer to zero y-axis points get.'"
      ]
     },
     "execution_count": 99,
     "metadata": {},
     "output_type": "execute_result"
    }
   ],
   "source": [
    "#Using .loc to segment Latitude points greater than zero\n",
    "x_values = n_hemi['Max Temp']\n",
    "y_values =  n_hemi['Lat']\n",
    "(slope, intercept, rvalue, pvalue, stderr) = linregress(x_values, y_values)\n",
    "regress_values = x_values * slope + intercept\n",
    "line_eq = \"y = \" + str(round(slope,2)) + \"x + \" + str(round(intercept,2))\n",
    "plt.scatter(x_values,y_values)\n",
    "plt.plot(x_values,regress_values,\"r-\")\n",
    "plt.annotate(line_eq,(-20,10),fontsize=15,color=\"blue\", alpha=0.5)\n",
    "plt.title('Northern Hemisphere Temperature (°F) vs Latitude')\n",
    "plt.xlabel('Temperature (°F)')\n",
    "plt.ylabel('Latitude 0° to 90°')\n",
    "plt.show()\n",
    "\n",
    "'''Strong relationship between Latitude and Temperature. As temperature increase, the closer to zero y-axis points get.'''"
   ]
  },
  {
   "cell_type": "markdown",
   "metadata": {},
   "source": [
    "####  Southern Hemisphere - Max Temp vs. Latitude Linear Regression"
   ]
  },
  {
   "cell_type": "code",
   "execution_count": null,
   "metadata": {},
   "outputs": [],
   "source": []
  },
  {
   "cell_type": "markdown",
   "metadata": {},
   "source": [
    "####  Northern Hemisphere - Humidity (%) vs. Latitude Linear Regression"
   ]
  },
  {
   "cell_type": "code",
   "execution_count": 105,
   "metadata": {},
   "outputs": [
    {
     "data": {
      "image/png": "[encoded data removed]",
      "text/plain": [
       "<Figure size 432x288 with 1 Axes>"
      ]
     },
     "metadata": {
      "needs_background": "light"
     },
     "output_type": "display_data"
    },
    {
     "data": {
      "text/plain": [
       "'Little relationship between Latitude and Humidity. As latitude increases and moves any\\nfrom zero, humidity is scattered above and below the linear regression line.'"
      ]
     },
     "execution_count": 105,
     "metadata": {},
     "output_type": "execute_result"
    }
   ],
   "source": [
    "x_values = n_hemi['Humidity']\n",
    "y_values =  n_hemi['Lat']\n",
    "(slope, intercept, rvalue, pvalue, stderr) = linregress(x_values, y_values)\n",
    "regress_values = x_values * slope + intercept\n",
    "line_eq = \"y = \" + str(round(slope,2)) + \"x + \" + str(round(intercept,2))\n",
    "plt.scatter(x_values,y_values, color='red', alpha=0.5)\n",
    "plt.plot(x_values,regress_values,\"r-\")\n",
    "plt.annotate(line_eq,(20,70),fontsize=15,color=\"black\", alpha=1)\n",
    "plt.title('Northern Hemisphere Humidity % vs Latitude')\n",
    "plt.xlabel('Humidity % ')\n",
    "plt.ylabel('Latitude 0° to 90°')\n",
    "plt.show()\n",
    "\n",
    "'''Little relationship between Latitude and Humidity. As latitude increases and moves any\n",
    "from zero, humidity is scattered above and below the linear regression line.'''"
   ]
  },
  {
   "cell_type": "markdown",
   "metadata": {},
   "source": [
    "####  Southern Hemisphere - Humidity (%) vs. Latitude Linear Regression"
   ]
  },
  {
   "cell_type": "code",
   "execution_count": null,
   "metadata": {},
   "outputs": [],
   "source": []
  },
  {
   "cell_type": "markdown",
   "metadata": {},
   "source": [
    "####  Northern Hemisphere - Cloudiness (%) vs. Latitude Linear Regression"
   ]
  },
  {
   "cell_type": "code",
   "execution_count": 114,
   "metadata": {},
   "outputs": [
    {
     "data": {
      "image/png": "[encoded data removed]",
      "text/plain": [
       "<Figure size 432x288 with 1 Axes>"
      ]
     },
     "metadata": {
      "needs_background": "light"
     },
     "output_type": "display_data"
    },
    {
     "data": {
      "text/plain": [
       "\"Little relationship between Latitude and cloudiness. As latitude increases and moves any\\nfrom zero, cloudiness is scattered above and below the linear regression line and at it's end points.\""
      ]
     },
     "execution_count": 114,
     "metadata": {},
     "output_type": "execute_result"
    }
   ],
   "source": [
    "x_values = n_hemi['Cloudiness']\n",
    "y_values =  n_hemi['Lat']\n",
    "(slope, intercept, rvalue, pvalue, stderr) = linregress(x_values, y_values)\n",
    "regress_values = x_values * slope + intercept\n",
    "line_eq = \"y = \" + str(round(slope,2)) + \"x + \" + str(round(intercept,2))\n",
    "plt.scatter(x_values,y_values, color='green', alpha=0.5)\n",
    "plt.plot(x_values,regress_values,\"r-\")\n",
    "plt.annotate(line_eq,(50,75),fontsize=15,color=\"black\", alpha=1)\n",
    "plt.title('Northern Hemisphere Cloudiness % vs Latitude')\n",
    "plt.xlabel('Cloudinesss % ')\n",
    "plt.ylabel('Latitude 0° to 90°')\n",
    "plt.show()\n",
    "\n",
    "'''Little relationship between Latitude and cloudiness. As latitude increases and moves any\n",
    "from zero, cloudiness is scattered above and below the linear regression line and at it's end points.'''"
   ]
  },
  {
   "cell_type": "markdown",
   "metadata": {},
   "source": [
    "####  Southern Hemisphere - Cloudiness (%) vs. Latitude Linear Regression"
   ]
  },
  {
   "cell_type": "code",
   "execution_count": null,
   "metadata": {},
   "outputs": [],
   "source": []
  },
  {
   "cell_type": "markdown",
   "metadata": {},
   "source": [
    "####  Northern Hemisphere - Wind Speed (mph) vs. Latitude Linear Regression"
   ]
  },
  {
   "cell_type": "code",
   "execution_count": 119,
   "metadata": {},
   "outputs": [
    {
     "data": {
      "image/png": "[encoded data removed]",
      "text/plain": [
       "<Figure size 432x288 with 1 Axes>"
      ]
     },
     "metadata": {
      "needs_background": "light"
     },
     "output_type": "display_data"
    },
    {
     "data": {
      "text/plain": [
       "\"Slight relationship between Latitude and wind speed. As latitude increases and moves any\\nfrom zero, wind  is scattered above and below the linear regression line and at it's end points.\""
      ]
     },
     "execution_count": 119,
     "metadata": {},
     "output_type": "execute_result"
    }
   ],
   "source": [
    "x_values = n_hemi['Wind Speed']\n",
    "y_values =  n_hemi['Lat']\n",
    "(slope, intercept, rvalue, pvalue, stderr) = linregress(x_values, y_values)\n",
    "regress_values = x_values * slope + intercept\n",
    "line_eq = \"y = \" + str(round(slope,2)) + \"x + \" + str(round(intercept,2))\n",
    "plt.scatter(x_values,y_values, color='purple', alpha=0.25)\n",
    "plt.plot(x_values,regress_values,\"r-\")\n",
    "plt.annotate(line_eq,(20,10),fontsize=15,color=\"black\", alpha=1)\n",
    "plt.title('Northern Hemisphere Wind Speed (mpd) vs Latitude')\n",
    "plt.xlabel('Wind Speed (mph)')\n",
    "plt.ylabel('Latitude 0° to 90°')\n",
    "plt.show()\n",
    "\n",
    "'''Slight relationship between Latitude and wind speed. As latitude increases and moves any\n",
    "from zero, wind is scattered above and below the linear regression line between 0 and 10 mph.'''"
   ]
  },
  {
   "cell_type": "markdown",
   "metadata": {},
   "source": [
    "####  Southern Hemisphere - Wind Speed (mph) vs. Latitude Linear Regression"
   ]
  },
  {
   "cell_type": "code",
   "execution_count": null,
   "metadata": {},
   "outputs": [],
   "source": []
  },
  {
   "cell_type": "code",
   "execution_count": null,
   "metadata": {},
   "outputs": [],
   "source": []
  },
  {
   "cell_type": "code",
   "execution_count": null,
   "metadata": {},
   "outputs": [],
   "source": [
    "# List for holding lat_lngs and cities\n",
    "lat_lngs = []\n",
    "cities = []\n",
    "\n",
    "# Create a set of random lat and lng combinations\n",
    "lats = np.random.uniform(lat_range[0], lat_range[1], size=1500)\n",
    "lngs = np.random.uniform(lng_range[0], lng_range[1], size=1500)\n",
    "lat_lngs = zip(lats, lngs)\n",
    "\n",
    "# Identify nearest city for each lat, lng combination\n",
    "for lat_lng in lat_lngs:\n",
    "    city = citipy.nearest_city(lat_lng[0], lat_lng[1]).city_name\n",
    "    \n",
    "    # If the city is unique, then add it to a our cities list\n",
    "    if city not in cities:\n",
    "        cities.append(city)\n",
    "\n",
    "# Print the city count to confirm sufficient count\n",
    "len(cities)"
   ]
  }
 ],
 "metadata": {
  "anaconda-cloud": {},
  "kernel_info": {
   "name": "python3"
  },
  "kernelspec": {
   "display_name": "Python [conda env:apiwork] *",
   "language": "python",
   "name": "conda-env-apiwork-py"
  },
  "language_info": {
   "codemirror_mode": {
    "name": "ipython",
    "version": 3
   },
   "file_extension": ".py",
   "mimetype": "text/x-python",
   "name": "python",
   "nbconvert_exporter": "python",
   "pygments_lexer": "ipython3",
   "version": "3.8.3"
  },
  "latex_envs": {
   "LaTeX_envs_menu_present": true,
   "autoclose": false,
   "autocomplete": true,
   "bibliofile": "biblio.bib",
   "cite_by": "apalike",
   "current_citInitial": 1,
   "eqLabelWithNumbers": true,
   "eqNumInitial": 1,
   "hotkeys": {
    "equation": "Ctrl-E",
    "itemize": "Ctrl-I"
   },
   "labels_anchors": false,
   "latex_user_defs": false,
   "report_style_numbering": false,
   "user_envs_cfg": false
  },
  "nteract": {
   "version": "0.12.3"
  }
 },
 "nbformat": 4,
 "nbformat_minor": 2
}
