{
 "cells": [
  {
   "cell_type": "markdown",
   "metadata": {},
   "source": [
    "# WeatherPy\n",
    "----\n",
    "\n",
    "#### Note\n",
    "* Instructions have been included for each segment. You do not have to follow them exactly, but they are included to help you think through the steps."
   ]
  },
  {
   "cell_type": "code",
   "execution_count": 100,
   "metadata": {},
   "outputs": [],
   "source": [
    "# Dependencies and Setup\n",
    "import matplotlib.pyplot as plt\n",
    "import pandas as pd\n",
    "import numpy as np\n",
    "import requests\n",
    "import time\n",
    "from scipy.stats import linregress\n",
    "\n",
    "# Import API key\n",
    "from api_keys import weather_api_key\n",
    "\n",
    "# Incorporated citipy to determine city based on latitude and longitude\n",
    "from citipy import citipy\n",
    "\n",
    "# Output File (CSV)\n",
    "output_data_file = \"output_data/cities.csv\"\n"
   ]
  },
  {
   "cell_type": "code",
   "execution_count": 101,
   "metadata": {
    "scrolled": true
   },
   "outputs": [
    {
     "name": "stdout",
     "output_type": "stream",
     "text": [
      "-81.58852184462262 -4.56680016168184\n",
      "16.001704583207754 112.17116958085006\n",
      "86.2634605113096 -23.07839008544846\n",
      "-59.15387592510518 147.58726818227467\n",
      "-4.458626376991418 -66.115835446837\n",
      "50.90990355000571 -70.09522765746961\n",
      "-65.54403766919366 -102.28731123703203\n",
      "-6.3833307432934845 -161.5323371640533\n",
      "-79.47886246964923 39.49350613483287\n",
      "59.276284398721856 -119.18391736642144\n",
      "-75.12777675349517 -74.70998360164788\n",
      "-30.501895266324915 157.8426018576509\n",
      "-52.995090578758074 85.79148412420295\n",
      "10.35109386264682 -6.262496538155318\n",
      "37.71107854376058 -63.36601973539673\n",
      "84.68563143465389 -51.150887995575914\n",
      "-8.382816682008297 138.0962949173338\n",
      "-74.5643885749361 88.19052121054796\n",
      "-69.51489079830321 120.10043162813105\n",
      "-41.73743977704862 -59.93390091185874\n",
      "-81.27622057134539 -173.95935108990778\n",
      "27.906130501379565 -142.43457375309143\n",
      "-75.16046587429578 -92.51683638479764\n",
      "57.16234954830432 -86.02877516239863\n",
      "16.953366384185898 80.2279438954493\n",
      "42.12578542871739 -60.81812177997094\n",
      "-28.739645649723514 -9.479272770911734\n",
      "1.732983864322705 -40.210991362361796\n",
      "-73.59755293133226 -144.58111914288878\n",
      "-85.50346373105675 173.13925385781693\n",
      "-51.95450856874455 161.90616099915104\n",
      "-82.65522186355452 -27.822956093898256\n",
      "-51.50379480548952 57.812094295486986\n",
      "53.00810840070503 147.440282424786\n",
      "-78.61190003946612 -115.7588898979961\n",
      "37.06945350322148 53.42084366534124\n",
      "-46.61949611401307 83.5395229025803\n",
      "-72.82354211241906 -102.36984702305415\n",
      "44.22113303134611 166.68110981553775\n",
      "-19.01084354908093 53.77161819007571\n",
      "69.28088537608173 67.73918148170767\n",
      "-38.026805318531196 -6.6925224448735605\n",
      "-67.7908610497528 136.16300885668858\n",
      "71.72947131398459 44.09941169202125\n",
      "14.646555320242058 -174.47408750650445\n",
      "80.25933211326387 -168.10084649767487\n",
      "-8.457590175092207 -70.24482238515868\n",
      "-39.08062025787071 -42.75423982849986\n",
      "0.051920779885534785 19.19940128698076\n",
      "50.30896261835136 58.70315865334024\n",
      "78.55018261037449 83.50902242469647\n",
      "-15.875321409427002 65.61343015909313\n",
      "52.45689206617689 151.14458244856417\n",
      "-56.58885513600944 141.23126555362234\n",
      "-81.12073581087506 164.97590599247656\n",
      "0.9230679101231232 -13.365289963498356\n",
      "-48.39805440075178 -149.08685248893948\n",
      "69.0810385969487 50.1081953220409\n",
      "7.312824596612018 -62.368239941150904\n",
      "-51.318411692751596 -108.48927405520148\n",
      "16.44296440674428 -104.07941547588796\n",
      "86.36317127128066 140.23695660064988\n",
      "14.31784746876086 7.391376246912529\n",
      "39.26732520365411 -62.798479161887826\n",
      "-52.6607036617608 11.824026519905715\n",
      "13.553606832094957 -127.8417414339877\n",
      "12.184181637832964 114.55089878681667\n",
      "-56.11499694120921 -153.76180137119132\n",
      "-89.14095928135453 -144.2485825058472\n",
      "89.88047666034171 110.68835353716986\n",
      "12.360220907189785 156.74891401453903\n",
      "-55.3773335565954 -53.09063134636207\n",
      "-23.892412458344367 30.360119234172856\n",
      "-7.588879198077606 95.85353876336563\n",
      "-4.6499300726979556 92.52355796273775\n",
      "-74.15515720049004 -44.29913888547017\n",
      "79.34054286326898 -159.92052928492237\n",
      "-58.460201614160816 146.12069598628023\n",
      "-82.74558314494763 125.34744092241391\n",
      "-12.319337365833135 82.79274658475077\n",
      "64.17549707881238 16.68535173574378\n",
      "-9.376921174967137 59.633416174433165\n",
      "51.00964886916205 -138.01404915834019\n",
      "55.339252866300825 13.880946280230262\n",
      "33.565478835350376 -59.390558848156104\n",
      "-21.735945570639075 -0.9849107471253262\n",
      "59.93469145817332 60.68524725516335\n",
      "25.31849093457373 -114.24686588594491\n",
      "-63.35191959890075 -114.87472023017997\n",
      "48.74988500888679 -113.11261656865966\n",
      "27.625118475924452 95.46345128859656\n",
      "-30.945572385926987 103.15689324656933\n",
      "58.22942588259002 -99.01012392299226\n",
      "79.44178992338138 -151.99658170721216\n",
      "-41.786781333547786 -121.4452675570709\n",
      "-65.18099584068257 -34.01769223076201\n",
      "76.73588332953204 67.76201015299159\n",
      "38.73496057804783 113.64765621488311\n",
      "22.810587966546237 -143.42348691573898\n",
      "-50.40533388295506 47.96246482799731\n"
     ]
    }
   ],
   "source": [
    "lat_range = (-90, 90)\n",
    "lng_range = (-180, 180)\n",
    "lat_lngs = []\n",
    "# city=[]\n",
    "\n",
    "lats = np.random.uniform(lat_range[0], lat_range[1], size=100)\n",
    "lngs = np.random.uniform(lng_range[0], lng_range[1], size=100)\n",
    "lat_lngs = zip(lats, lngs)\n",
    "for x, y in lat_lngs:\n",
    "    print(x,y)"
   ]
  },
  {
   "cell_type": "code",
   "execution_count": 102,
   "metadata": {
    "scrolled": true
   },
   "outputs": [
    {
     "name": "stdout",
     "output_type": "stream",
     "text": [
      "[]\n"
     ]
    }
   ],
   "source": [
    "for lat in lat_lngs:\n",
    "    city = citipy.nearest_city(lat_lng[0], lat_lng[1]).city_name\n",
    "print(city)\n",
    "    \n",
    "\n",
    "\n",
    "    \n",
    "# 'tainan'\n",
    "# >>>\n",
    "# >>> city.country_code\n",
    "# 'tw'                  # And the country is surely Taiwan"
   ]
  },
  {
   "cell_type": "code",
   "execution_count": 8,
   "metadata": {
    "scrolled": true
   },
   "outputs": [],
   "source": [
    "# Range of latitudes and longitudes\n",
    "lat_range = (-90, 90)\n",
    "lng_range = (-180, 180)"
   ]
  },
  {
   "cell_type": "code",
   "execution_count": null,
   "metadata": {},
   "outputs": [],
   "source": [
    "# List for holding lat_lngs and cities\n",
    "lat_lngs = []\n",
    "cities = []\n",
    "country = []\n",
    "\n",
    "# Create a set of random lat and lng combinations\n",
    "lats = np.random.uniform(lat_range[0], lat_range[1], size=1500)\n",
    "lngs = np.random.uniform(lng_range[0], lng_range[1], size=1500)\n",
    "lat_lngs = zip(lats, lngs)\n",
    "lat_lngs\n",
    "# Identify nearest city for each lat, lng combination\n",
    "for lat_lng in lat_lngs:\n",
    "    city = citipy.nearest_city(lat_lng[0], lat_lng[1]).city_name\n",
    "    # If the city is unique, then add it to a our cities list\n",
    "    if city not in cities:\n",
    "        cities.append(city)\n",
    "\n",
    "# Print the city count to confirm sufficient count\n",
    "len(cities)"
   ]
  },
  {
   "cell_type": "code",
   "execution_count": null,
   "metadata": {},
   "outputs": [],
   "source": [
    "#create df to clean and put apis frm openweather\n",
    "\n",
    "# cities_weather_df = pd.read_csv(output_data_file)\n",
    "# cities_weather_df_copy = cities_weather_df\n",
    "# cities_weather_df.head()"
   ]
  },
  {
   "cell_type": "code",
   "execution_count": null,
   "metadata": {},
   "outputs": [],
   "source": [
    "#Are all elements equal  ...nope missing country marker.  Remove those rows that dont contain country markers\n",
    "# cities_weather_df.count()"
   ]
  },
  {
   "cell_type": "code",
   "execution_count": null,
   "metadata": {},
   "outputs": [],
   "source": [
    "#What does the data look like?\n",
    "# cities_weather_df.dtypes"
   ]
  },
  {
   "cell_type": "code",
   "execution_count": null,
   "metadata": {},
   "outputs": [],
   "source": [
    "# #Drop Country Rows so all elements are equal\n",
    "# cities_weather_df = cities_weather_df.dropna(how='any')\n",
    "# cities_weather_df.count()"
   ]
  },
  {
   "cell_type": "code",
   "execution_count": null,
   "metadata": {},
   "outputs": [],
   "source": [
    "# #Building for Loop to build new dataframe with \n",
    "# cities_weather_df.head()"
   ]
  },
  {
   "cell_type": "code",
   "execution_count": null,
   "metadata": {},
   "outputs": [],
   "source": [
    "#testing url pull, api key and viewing response\n",
    "from pprint import pprint\n",
    "\n",
    "from api_keys import weather_api_key\n",
    "\n",
    "lat = cities_weather_df.iloc[1,6]\n",
    "lon = cities_weather_df.iloc[1,7]\n",
    "\n",
    "url =f\"http://api.openweathermap.org/data/2.5/weather?lat={lat}&lon={lon}&units=Imperial&appid={weather_api_key}\"\n",
    "    \n",
    "response = requests.get(url).json()\n",
    "\n",
    "pprint(response)"
   ]
  },
  {
   "cell_type": "markdown",
   "metadata": {},
   "source": [
    "## Generate Cities List"
   ]
  },
  {
   "cell_type": "markdown",
   "metadata": {},
   "source": [
    "### Perform API Calls\n",
    "* Perform a weather check on each city using a series of successive API calls.\n",
    "* Include a print log of each city as it'sbeing processed (with the city number and city name).\n"
   ]
  },
  {
   "cell_type": "code",
   "execution_count": null,
   "metadata": {
    "scrolled": true
   },
   "outputs": [],
   "source": [
    "#Start getting the weather from the clean dataframe using openweatherapi \n",
    "#City\tLat\tLng\tMax Temp\tHumidity\tCloudiness\tWind Speed\tCountry\tDate\n",
    "# n_city_id = response['cod']\n",
    "\n",
    "n_city_name = []\n",
    "n_lon = []\n",
    "n_lat = []\n",
    "n_max_temp = []\n",
    "n_humidity = []\n",
    "n_cloudiness = []\n",
    "n_wind_speed = []\n",
    "n_country = []\n",
    "n_date = []\n",
    "\n",
    "from pprint import pprint\n",
    "\n",
    "from api_keys import weather_api_key\n",
    "\n",
    "for index, row in cities_weather_df.iterrows():\n",
    "    lat = row['Lat']\n",
    "    lon = row['Lng']\n",
    "    \n",
    "    api_w_key = weather_api_key\n",
    "    \n",
    "    url =f\"http://api.openweathermap.org/data/2.5/weather?lat={lat}&lon={lon}&units=imperial&appid={api_w_key}\"\n",
    "    \n",
    "    response = requests.get(url).json()\n",
    "    \n",
    "    n_city_id = response['id']\n",
    "    city=response['name']\n",
    "    \n",
    "    print(f'The city code for {city} is {n_city_id}')\n",
    "    \n",
    "    n_city_name.append(response['name'])\n",
    "    n_lat.append(response['coord']['lat'])\n",
    "    n_lon.append(response['coord']['lon'])\n",
    "    n_max_temp.append(response['main']['temp_max'])\n",
    "    n_humidity.append(response['main']['humidity'])\n",
    "    n_cloudiness.append(response['clouds']['all'])\n",
    "    n_wind_speed.append(response['wind']['speed'])\n",
    "    n_country.append(response['sys']['country'])\n",
    "    n_date.append(response['dt'])\n",
    "    "
   ]
  },
  {
   "cell_type": "markdown",
   "metadata": {},
   "source": [
    "### Convert Raw Data to DataFrame\n",
    "* Export the city data into a .csv.\n",
    "* Display the DataFrame"
   ]
  },
  {
   "cell_type": "code",
   "execution_count": null,
   "metadata": {
    "scrolled": false
   },
   "outputs": [],
   "source": [
    "#Convert Data to DF City\tLat\tLng\tMax Temp\tHumidity\tCloudiness\tWind Speed\tCountry\tDate\n",
    "\n",
    "n_cities_weather_df = pd.DataFrame({'City': n_city_name , 'Lat': n_lat, 'Long': n_lon,\n",
    "                                  'Max Temp': n_max_temp, 'Humidity': n_humidity, 'Cloudiness': n_cloudiness,\n",
    "                                  'Wind Speed': n_wind_speed, 'Country': n_country, 'Date': n_date})\n",
    "n_cities_weather_df.count()"
   ]
  },
  {
   "cell_type": "code",
   "execution_count": null,
   "metadata": {},
   "outputs": [],
   "source": [
    "n_cities_weather_df.to_csv(\"output_data/cities_1.csv\")"
   ]
  },
  {
   "cell_type": "markdown",
   "metadata": {},
   "source": [
    "## Inspect the data and remove the cities where the humidity > 100%.\n",
    "----\n",
    "Skip this step if there are no cities that have humidity > 100%. "
   ]
  },
  {
   "cell_type": "code",
   "execution_count": null,
   "metadata": {},
   "outputs": [],
   "source": [
    "n_cities_weather_df.index\n",
    "n_cities_weather_df['Wind Speed'].min()"
   ]
  },
  {
   "cell_type": "code",
   "execution_count": null,
   "metadata": {},
   "outputs": [],
   "source": [
    "# Make a new DataFrame equal to the city data to drop all humidity outliers by index.\n",
    "# Passing \"inplace=False\" will make a copy of the city_data DataFrame, which we call \"clean_city_data\".\n",
    "clean_city_data = n_cities_weather_df.loc[n_cities_weather_df['Humidity']< 100]\n",
    "print(clean_city_data['Humidity'].max())\n",
    "print(clean_city_data['Humidity'].count())"
   ]
  },
  {
   "cell_type": "markdown",
   "metadata": {},
   "source": [
    "## Plotting the Data\n",
    "* Use proper labeling of the plots using plot titles (including date of analysis) and axes labels.\n",
    "* Save the plotted figures as .pngs."
   ]
  },
  {
   "cell_type": "markdown",
   "metadata": {},
   "source": [
    "## Latitude vs. Temperature Plot"
   ]
  },
  {
   "cell_type": "code",
   "execution_count": null,
   "metadata": {},
   "outputs": [],
   "source": [
    "clean_city_data.head(0)"
   ]
  },
  {
   "cell_type": "code",
   "execution_count": null,
   "metadata": {
    "scrolled": false
   },
   "outputs": [],
   "source": [
    "plt.figure()\n",
    "fig = clean_city_data.plot.scatter('Max Temp', 'Lat', color='blue', alpha = .75, grid = True)\n",
    "plt.title('Temperature (°F) vs Latitude')\n",
    "plt.xlabel('Temperature (°F)')\n",
    "plt.ylabel('Latitude 90 to -90')\n",
    "plt.xlim(-30,120)\n",
    "plt.ylim(-90, 90)\n",
    "plt.savefig(\"temp_v_lat.png\")\n",
    "plt.show()\n",
    "\n",
    "'''The horizontal Zero off the y axis represents the equator and as the grid moves further from zero, in either direction, temperatures begin to decrease.'''"
   ]
  },
  {
   "cell_type": "markdown",
   "metadata": {},
   "source": [
    "## Latitude vs. Humidity Plot"
   ]
  },
  {
   "cell_type": "code",
   "execution_count": null,
   "metadata": {},
   "outputs": [],
   "source": [
    "plt.figure()\n",
    "fig = clean_city_data.plot.scatter('Humidity', 'Lat', color='red', alpha=0.5, grid=True)\n",
    "plt.title('Humidity % vs Latitude')\n",
    "plt.xlabel('Humidity as %')\n",
    "plt.ylabel('Latitude 90 to -90')\n",
    "plt.xlim(0, 100)\n",
    "plt.ylim(-90, 90)\n",
    "plt.savefig(\"humidity_v_lat.png\")\n",
    "plt.show()\n",
    "\n",
    "'''Humidity is fairly evenly distributed around horizonal zero, but has a significant cluster of points in the 60 degree with over 80% humidity.'''"
   ]
  },
  {
   "cell_type": "markdown",
   "metadata": {},
   "source": [
    "## Latitude vs. Cloudiness Plot"
   ]
  },
  {
   "cell_type": "code",
   "execution_count": null,
   "metadata": {},
   "outputs": [],
   "source": [
    "plt.figure()\n",
    "fig = clean_city_data.plot.scatter('Cloudiness', 'Lat', color='green', alpha=0.5, grid=True)\n",
    "plt.title('Cloudiness % vs Latitude')\n",
    "plt.xlabel('Cloudiness %')\n",
    "plt.ylabel('Latitude 90 to -90')\n",
    "plt.xlim(0, 100)\n",
    "plt.ylim(-90, 90)\n",
    "plt.savefig(\"cloud_v_lat.png\")\n",
    "plt.show()\n",
    "\n",
    "\n",
    "''' Cloudiness is even distributed along the horizontal zero line.  No discernable points or clusters.'''"
   ]
  },
  {
   "cell_type": "markdown",
   "metadata": {},
   "source": [
    "## Latitude vs. Wind Speed Plot"
   ]
  },
  {
   "cell_type": "code",
   "execution_count": null,
   "metadata": {},
   "outputs": [],
   "source": [
    "plt.figure()\n",
    "fig = clean_city_data.plot.scatter('Wind Speed', 'Lat', color='orange', alpha=1, grid=True)\n",
    "plt.title('Wind Speed (mph) vs Latitude')\n",
    "plt.xlabel('Wind Speed (mph)')\n",
    "plt.ylabel('Latitude 90 to -90')\n",
    "plt.xlim(0, 40)\n",
    "plt.ylim(-90, 90)\n",
    "plt.savefig(\"wind_v_lat.png\")\n",
    "plt.show()\n",
    "\n",
    "\n",
    "'''Wind speed is even distributed between 0 and 10 and along the horizontal zero line.  A few high wind speeds, above 30, occur further away from zero.'''"
   ]
  },
  {
   "cell_type": "markdown",
   "metadata": {},
   "source": [
    "## Linear Regression"
   ]
  },
  {
   "cell_type": "code",
   "execution_count": null,
   "metadata": {},
   "outputs": [],
   "source": [
    "clean_city_data.head(1)"
   ]
  },
  {
   "cell_type": "code",
   "execution_count": null,
   "metadata": {},
   "outputs": [],
   "source": [
    "s_hemi = clean_city_data.loc[clean_city_data['Lat']<=0]\n",
    "s_hemi['Lat'].max()"
   ]
  },
  {
   "cell_type": "code",
   "execution_count": null,
   "metadata": {},
   "outputs": [],
   "source": [
    "n_hemi = clean_city_data.loc[clean_city_data['Lat']>=0]\n",
    "n_hemi['Lat'].min()"
   ]
  },
  {
   "cell_type": "markdown",
   "metadata": {},
   "source": [
    "####  Northern Hemisphere - Max Temp vs. Latitude Linear Regression"
   ]
  },
  {
   "cell_type": "code",
   "execution_count": null,
   "metadata": {},
   "outputs": [],
   "source": [
    "#Using .loc to segment Latitude points greater than zero\n",
    "x_values = n_hemi['Max Temp']\n",
    "y_values =  n_hemi['Lat']\n",
    "(slope, intercept, rvalue, pvalue, stderr) = linregress(x_values, y_values)\n",
    "regress_values = x_values * slope + intercept\n",
    "line_eq = \"y = \" + str(round(slope,2)) + \"x + \" + str(round(intercept,2))\n",
    "plt.scatter(x_values,y_values)\n",
    "plt.plot(x_values,regress_values,\"r-\")\n",
    "plt.annotate(line_eq,(-20,10),fontsize=15,color=\"blue\", alpha=0.5)\n",
    "plt.title('Northern Hemisphere Temperature (°F) vs Latitude')\n",
    "plt.xlabel('Temperature (°F)')\n",
    "plt.ylabel('Latitude 0° to 90°')\n",
    "plt.show()\n",
    "\n",
    "'''Strong relationship between Latitude and Temperature. As temperature increase, the closer to zero y-axis points get.'''"
   ]
  },
  {
   "cell_type": "markdown",
   "metadata": {},
   "source": [
    "####  Southern Hemisphere - Max Temp vs. Latitude Linear Regression"
   ]
  },
  {
   "cell_type": "code",
   "execution_count": null,
   "metadata": {},
   "outputs": [],
   "source": []
  },
  {
   "cell_type": "code",
   "execution_count": null,
   "metadata": {},
   "outputs": [],
   "source": [
    "x_values = s_hemi['Max Temp']\n",
    "y_values =  s_hemi['Lat']\n",
    "(slope, intercept, rvalue, pvalue, stderr) = linregress(x_values, y_values)\n",
    "regress_values = x_values * slope + intercept\n",
    "line_eq = \"y = \" + str(round(slope,2)) + \"x + \" + str(round(intercept,2))\n",
    "plt.scatter(x_values,y_values)\n",
    "plt.plot(x_values,regress_values,\"r-\")\n",
    "plt.annotate(line_eq,(75,-50),fontsize=15,color=\"blue\", alpha=0.5)\n",
    "plt.title('Southern Hemisphere Temperature (°F) vs Latitude')\n",
    "plt.xlabel('Temperature (°F)')\n",
    "plt.ylabel('Latitude 0° to -90°')\n",
    "plt.show()\n",
    "\n",
    "'''Slight relationship between Latitude and Temperature. As temperature increases the closer to zero y-axis and closer to the equator.'''"
   ]
  },
  {
   "cell_type": "markdown",
   "metadata": {},
   "source": [
    "####  Northern Hemisphere - Humidity (%) vs. Latitude Linear Regression"
   ]
  },
  {
   "cell_type": "code",
   "execution_count": null,
   "metadata": {},
   "outputs": [],
   "source": [
    "x_values = n_hemi['Humidity']\n",
    "y_values =  n_hemi['Lat']\n",
    "(slope, intercept, rvalue, pvalue, stderr) = linregress(x_values, y_values)\n",
    "regress_values = x_values * slope + intercept\n",
    "line_eq = \"y = \" + str(round(slope,2)) + \"x + \" + str(round(intercept,2))\n",
    "plt.scatter(x_values,y_values, color='red', alpha=0.5)\n",
    "plt.plot(x_values,regress_values,\"r-\")\n",
    "plt.annotate(line_eq,(20,70),fontsize=15,color=\"black\", alpha=1)\n",
    "plt.title('Northern Hemisphere Humidity % vs Latitude')\n",
    "plt.xlabel('Humidity % ')\n",
    "plt.ylabel('Latitude 0° to 90°')\n",
    "plt.show()\n",
    "\n",
    "'''Little relationship between Latitude and Humidity. As latitude increases and moves any\n",
    "from zero, humidity is scattered above and below the linear regression line.'''"
   ]
  },
  {
   "cell_type": "markdown",
   "metadata": {},
   "source": [
    "####  Southern Hemisphere - Humidity (%) vs. Latitude Linear Regression"
   ]
  },
  {
   "cell_type": "code",
   "execution_count": null,
   "metadata": {},
   "outputs": [],
   "source": [
    "x_values = s_hemi['Humidity']\n",
    "y_values =  s_hemi['Lat']\n",
    "(slope, intercept, rvalue, pvalue, stderr) = linregress(x_values, y_values)\n",
    "regress_values = x_values * slope + intercept\n",
    "line_eq = \"y = \" + str(round(slope,2)) + \"x + \" + str(round(intercept,2))\n",
    "plt.scatter(x_values,y_values, color='red', alpha=0.5)\n",
    "plt.plot(x_values,regress_values,\"r-\")\n",
    "plt.annotate(line_eq,(10,-5),fontsize=15,color=\"black\", alpha=1)\n",
    "plt.title('Southern Hemisphere Humidity % vs Latitude')\n",
    "plt.xlabel('Humidity % ')\n",
    "plt.ylabel('Latitude 0° to -90°')\n",
    "plt.show()\n",
    "\n",
    "'''Little relationship between Latitude and Humidity. As latitude increases and moves any\n",
    "from zero, humidity is scattered above and below the linear regression line.'''"
   ]
  },
  {
   "cell_type": "markdown",
   "metadata": {},
   "source": [
    "####  Northern Hemisphere - Cloudiness (%) vs. Latitude Linear Regression"
   ]
  },
  {
   "cell_type": "code",
   "execution_count": null,
   "metadata": {},
   "outputs": [],
   "source": [
    "x_values = n_hemi['Cloudiness']\n",
    "y_values =  n_hemi['Lat']\n",
    "(slope, intercept, rvalue, pvalue, stderr) = linregress(x_values, y_values)\n",
    "regress_values = x_values * slope + intercept\n",
    "line_eq = \"y = \" + str(round(slope,2)) + \"x + \" + str(round(intercept,2))\n",
    "plt.scatter(x_values,y_values, color='green', alpha=0.5)\n",
    "plt.plot(x_values,regress_values,\"r-\")\n",
    "plt.annotate(line_eq,(50,75),fontsize=15,color=\"black\", alpha=1)\n",
    "plt.title('Northern Hemisphere Cloudiness % vs Latitude')\n",
    "plt.xlabel('Cloudinesss % ')\n",
    "plt.ylabel('Latitude 0° to 90°')\n",
    "plt.show()\n",
    "\n",
    "'''Little relationship between Latitude and cloudiness. As latitude increases and moves any\n",
    "from zero, cloudiness is scattered above and below the linear regression line and at it's end points.'''"
   ]
  },
  {
   "cell_type": "markdown",
   "metadata": {},
   "source": [
    "####  Southern Hemisphere - Cloudiness (%) vs. Latitude Linear Regression"
   ]
  },
  {
   "cell_type": "code",
   "execution_count": null,
   "metadata": {},
   "outputs": [],
   "source": [
    "x_values = s_hemi['Cloudiness']\n",
    "y_values =  s_hemi['Lat']\n",
    "(slope, intercept, rvalue, pvalue, stderr) = linregress(x_values, y_values)\n",
    "regress_values = x_values * slope + intercept\n",
    "line_eq = \"y = \" + str(round(slope,2)) + \"x + \" + str(round(intercept,2))\n",
    "plt.scatter(x_values,y_values, color='green', alpha=0.5)\n",
    "plt.plot(x_values,regress_values,\"r-\")\n",
    "plt.annotate(line_eq,(0,-55),fontsize=15,color=\"black\", alpha=1)\n",
    "plt.title('Southern Hemisphere Cloudiness % vs Latitude')\n",
    "plt.xlabel('Cloudinesss % ')\n",
    "plt.ylabel('Latitude 0° to -90°')\n",
    "plt.show()\n",
    "\n",
    "'''Almost zero relationship between Latitude and cloudiness. As latitude increases and moves any\n",
    "from zero, cloudiness is scattered above and below the linear regression line and at it's end points.'''"
   ]
  },
  {
   "cell_type": "markdown",
   "metadata": {},
   "source": [
    "####  Northern Hemisphere - Wind Speed (mph) vs. Latitude Linear Regression"
   ]
  },
  {
   "cell_type": "code",
   "execution_count": null,
   "metadata": {},
   "outputs": [],
   "source": [
    "x_values = n_hemi['Wind Speed']\n",
    "y_values =  n_hemi['Lat']\n",
    "(slope, intercept, rvalue, pvalue, stderr) = linregress(x_values, y_values)\n",
    "regress_values = x_values * slope + intercept\n",
    "line_eq = \"y = \" + str(round(slope,2)) + \"x + \" + str(round(intercept,2))\n",
    "plt.scatter(x_values,y_values, color='purple', alpha=0.25)\n",
    "plt.plot(x_values,regress_values,\"r-\")\n",
    "plt.annotate(line_eq,(20,10),fontsize=15,color=\"black\", alpha=1)\n",
    "plt.title('Northern Hemisphere Wind Speed (mpd) vs Latitude')\n",
    "plt.xlabel('Wind Speed (mph)')\n",
    "plt.ylabel('Latitude 0° to 90°')\n",
    "plt.show()\n",
    "\n",
    "'''Slight relationship between Latitude and wind speed. As latitude increases and moves any\n",
    "from zero, wind is scattered above and below the linear regression line between 0 and 10 mph.'''"
   ]
  },
  {
   "cell_type": "markdown",
   "metadata": {},
   "source": [
    "####  Southern Hemisphere - Wind Speed (mph) vs. Latitude Linear Regression"
   ]
  },
  {
   "cell_type": "code",
   "execution_count": null,
   "metadata": {},
   "outputs": [],
   "source": [
    "x_values = s_hemi['Wind Speed']\n",
    "y_values =  s_hemi['Lat']\n",
    "(slope, intercept, rvalue, pvalue, stderr) = linregress(x_values, y_values)\n",
    "regress_values = x_values * slope + intercept\n",
    "line_eq = \"y = \" + str(round(slope,2)) + \"x + \" + str(round(intercept,2))\n",
    "plt.scatter(x_values,y_values, color='purple', alpha=0.25)\n",
    "plt.plot(x_values,regress_values,\"r-\")\n",
    "plt.annotate(line_eq,(17, -10),fontsize=14,color=\"black\", alpha=1)\n",
    "plt.title('Southern Hemisphere Wind Speed (mpd) vs Latitude')\n",
    "plt.xlabel('Wind Speed (mph)')\n",
    "plt.ylabel('Latitude 0° to -90°')\n",
    "plt.show()\n",
    "\n",
    "'''Slight relationship between Latitude and wind speed. As latitude increases and moves any\n",
    "from zero, wind is scattered above and below the linear regression line between 0 and 10 mph.'''"
   ]
  },
  {
   "cell_type": "code",
   "execution_count": null,
   "metadata": {},
   "outputs": [],
   "source": []
  }
 ],
 "metadata": {
  "anaconda-cloud": {},
  "kernel_info": {
   "name": "python3"
  },
  "kernelspec": {
   "display_name": "Python [conda env:apiwork] *",
   "language": "python",
   "name": "conda-env-apiwork-py"
  },
  "language_info": {
   "codemirror_mode": {
    "name": "ipython",
    "version": 3
   },
   "file_extension": ".py",
   "mimetype": "text/x-python",
   "name": "python",
   "nbconvert_exporter": "python",
   "pygments_lexer": "ipython3",
   "version": "3.8.3"
  },
  "latex_envs": {
   "LaTeX_envs_menu_present": true,
   "autoclose": false,
   "autocomplete": true,
   "bibliofile": "biblio.bib",
   "cite_by": "apalike",
   "current_citInitial": 1,
   "eqLabelWithNumbers": true,
   "eqNumInitial": 1,
   "hotkeys": {
    "equation": "Ctrl-E",
    "itemize": "Ctrl-I"
   },
   "labels_anchors": false,
   "latex_user_defs": false,
   "report_style_numbering": false,
   "user_envs_cfg": false
  },
  "nteract": {
   "version": "0.12.3"
  }
 },
 "nbformat": 4,
 "nbformat_minor": 2
}
